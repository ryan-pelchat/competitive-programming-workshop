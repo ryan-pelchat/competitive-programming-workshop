{
  "nbformat": 4,
  "nbformat_minor": 0,
  "metadata": {
    "colab": {
      "provenance": [],
      "collapsed_sections": [
        "Llz9lcjz0mkU",
        "m9m2iQJj-AVT",
        "y9-QkPhs97Op",
        "-vpGWkNF-08K",
        "coPmPF_6_XRE",
        "lJFPv____4rI",
        "Bf4PkwfXAXCm"
      ]
    },
    "kernelspec": {
      "name": "python3",
      "display_name": "Python 3"
    },
    "language_info": {
      "name": "python"
    }
  },
  "cells": [
    {
      "cell_type": "markdown",
      "source": [
        "# 1.3.3 Introduction to Algorithm Analysis\n"
      ],
      "metadata": {
        "id": "ku-JGRby0gaX"
      }
    },
    {
      "cell_type": "markdown",
      "source": [
        "## What are the following complexities?"
      ],
      "metadata": {
        "id": "Llz9lcjz0mkU"
      }
    },
    {
      "cell_type": "markdown",
      "source": [
        "### Imports/Helper Functions"
      ],
      "metadata": {
        "id": "m9m2iQJj-AVT"
      }
    },
    {
      "cell_type": "code",
      "source": [
        "import math\n",
        "import time\n",
        "from statistics import median\n",
        "import numpy as np\n",
        "import matplotlib.pyplot as plt\n",
        "import matplotlib\n",
        "import random\n",
        "from typing import *\n",
        "\n",
        "def time_function(fn, inputs, trials):\n",
        "    times = []\n",
        "    for x in inputs:\n",
        "        trial_times = []\n",
        "        for _ in range(trials):\n",
        "            t0 = time.perf_counter()\n",
        "            fn(x)\n",
        "            t1 = time.perf_counter()\n",
        "            trial_times.append(t1 - t0)\n",
        "        times.append(median(trial_times))\n",
        "    return times\n",
        "\n",
        "def make_plot(x, y, title, xlabel, ylabel):\n",
        "    plt.figure()\n",
        "    plt.plot(x, y, marker='o')\n",
        "    plt.title(title)\n",
        "    plt.xlabel(xlabel)\n",
        "    plt.ylabel(ylabel)\n",
        "    plt.grid(True, which='both', linestyle='--', linewidth=0.5)\n",
        "    plt.tight_layout()\n",
        "    plt.show()\n",
        "\n",
        "def make_plot_2(x, yData, title, xlabel, ylabel, yLabels):\n",
        "    plt.figure()\n",
        "    colours = list(matplotlib.colors.get_named_colors_mapping().keys())\n",
        "    markers = list(matplotlib.markers.MarkerStyle.markers.keys())\n",
        "    markers.pop(0)\n",
        "    markers.pop(0)\n",
        "    for i in range(len(yData)):\n",
        "      plt.plot(x, yData[i], color=colours[i%(len(colours)-1)], marker=markers[i%(len(markers)-1)], label=yLabels[i])\n",
        "    plt.title(title)\n",
        "    plt.xlabel(xlabel)\n",
        "    plt.ylabel(ylabel)\n",
        "    plt.grid(True, which='both', linestyle='--', linewidth=0.5)\n",
        "    plt.tight_layout()\n",
        "    plt.legend()\n",
        "    plt.show()"
      ],
      "metadata": {
        "id": "dFHzxrSd9x4T"
      },
      "execution_count": null,
      "outputs": []
    },
    {
      "cell_type": "markdown",
      "source": [
        "### Function 1"
      ],
      "metadata": {
        "id": "y9-QkPhs97Op"
      }
    },
    {
      "cell_type": "code",
      "source": [
        "\n",
        "# input:\n",
        "func_1_n = [i for i in range(2000, 4000, 100)]\n",
        "\n",
        "def function_1(n: int) -> int:\n",
        "    s = 0\n",
        "    for i in range(n):\n",
        "        s += (i * i) + 3\n",
        "    return s\n",
        "\n",
        "func_1_times = time_function(function_1, func_1_n, trials=1000)\n",
        "\n",
        "make_plot(func_1_n, func_1_times, \"Function 1: time vs n\", \"n (input size)\", \"time (s)\")\n",
        "\n"
      ],
      "metadata": {
        "collapsed": true,
        "id": "ADpvILbD0iUc"
      },
      "execution_count": null,
      "outputs": []
    },
    {
      "cell_type": "markdown",
      "source": [
        "### Function 2"
      ],
      "metadata": {
        "id": "-vpGWkNF-08K"
      }
    },
    {
      "cell_type": "code",
      "source": [
        "\n",
        "func_2_n = [i for i in range(0, 2000, 100)]\n",
        "\n",
        "def function_2(n: int) -> int:\n",
        "    steps = 0\n",
        "    while n > 1:\n",
        "        n //= 2\n",
        "        steps += 1\n",
        "    return steps\n",
        "\n",
        "func_2_times = time_function(function_2, func_2_n, trials=1000)\n",
        "make_plot(func_2_n,    func_2_times,    \"Function 2: time vs n\", \"n (input size)\", \"time (s)\")"
      ],
      "metadata": {
        "id": "HJiwT3vr-neT"
      },
      "execution_count": null,
      "outputs": []
    },
    {
      "cell_type": "markdown",
      "source": [
        "### Function 3"
      ],
      "metadata": {
        "id": "coPmPF_6_XRE"
      }
    },
    {
      "cell_type": "code",
      "source": [
        "func_3_n = [i for i in range(0, 2000, 100)]\n",
        "\n",
        "def function_3(n: int) -> int:\n",
        "  s = 0\n",
        "  for i in range(n):\n",
        "    for j in range(n):\n",
        "      s += (i + j) + 3\n",
        "  return s\n",
        "\n",
        "func_3_times = time_function(function_3, func_3_n, trials=1)\n",
        "\n",
        "make_plot(func_3_n, func_3_times, \"Function 3: time vs n\", \"n (input size)\", \"time (s)\")"
      ],
      "metadata": {
        "id": "VXmu64GU_ZY-"
      },
      "execution_count": null,
      "outputs": []
    },
    {
      "cell_type": "markdown",
      "source": [
        "### Function 4"
      ],
      "metadata": {
        "id": "lJFPv____4rI"
      }
    },
    {
      "cell_type": "code",
      "source": [
        "func_4_n = [i for i in range(2000, 4000, 100)]\n",
        "\n",
        "def function_4(n: int) -> int:\n",
        "  return n\n",
        "\n",
        "func_4_times = time_function(function_4, func_4_n, trials=10000)\n",
        "\n",
        "make_plot(func_4_n, func_4_times, \"Function 4: time vs n\", \"n (input size)\", \"time (s)\")"
      ],
      "metadata": {
        "id": "Pg3m0a5F_7Zd"
      },
      "execution_count": null,
      "outputs": []
    },
    {
      "cell_type": "markdown",
      "source": [
        "### Function 5"
      ],
      "metadata": {
        "id": "Bf4PkwfXAXCm"
      }
    },
    {
      "cell_type": "code",
      "source": [
        "func_5_n = [random.sample([j for j in range(i)], i) for i in range(2000, 4000, 100)]\n",
        "\n",
        "def function_5(n: int) -> int:\n",
        "  return sorted(n)\n",
        "\n",
        "func_5_times = time_function(function_5, func_5_n, trials=100)\n",
        "\n",
        "\n",
        "# def make_plot_2(xs1, ys1, xs2, ys2, title, xlabel, ylabel)\n",
        "yDatas = [func_5_times, func_1_times, func_4_times]\n",
        "yLabels = [\"Function 5\", \"Function 1\", \"Function 4\"]\n",
        "make_plot_2(func_1_n, yDatas, \"Function 5 and Function 1: time vs n\", \"n (input size)\", \"time (s)\", yLabels)"
      ],
      "metadata": {
        "id": "1LuN5pjmAl8g"
      },
      "execution_count": null,
      "outputs": []
    }
  ]
}